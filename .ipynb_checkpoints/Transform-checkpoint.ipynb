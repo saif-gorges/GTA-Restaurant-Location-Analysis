{
 "cells": [
  {
   "cell_type": "code",
   "execution_count": 6,
   "metadata": {},
   "outputs": [],
   "source": [
    "#import dependencies\n",
    "import pandas as pd"
   ]
  },
  {
   "cell_type": "code",
   "execution_count": 7,
   "metadata": {},
   "outputs": [],
   "source": [
    "#run previous files\n",
    "%run Extract.ipynb"
   ]
  },
  {
   "cell_type": "code",
   "execution_count": 13,
   "metadata": {},
   "outputs": [
    {
     "data": {
      "text/plain": [
       "15821"
      ]
     },
     "execution_count": 13,
     "metadata": {},
     "output_type": "execute_result"
    }
   ],
   "source": [
    "#view restaurant df\n",
    "restaurant_df['Restaurant Name'].count()"
   ]
  },
  {
   "cell_type": "code",
   "execution_count": 25,
   "metadata": {},
   "outputs": [
    {
     "data": {
      "text/html": [
       "<div>\n",
       "<style scoped>\n",
       "    .dataframe tbody tr th:only-of-type {\n",
       "        vertical-align: middle;\n",
       "    }\n",
       "\n",
       "    .dataframe tbody tr th {\n",
       "        vertical-align: top;\n",
       "    }\n",
       "\n",
       "    .dataframe thead th {\n",
       "        text-align: right;\n",
       "    }\n",
       "</style>\n",
       "<table border=\"1\" class=\"dataframe\">\n",
       "  <thead>\n",
       "    <tr style=\"text-align: right;\">\n",
       "      <th></th>\n",
       "      <th>Category</th>\n",
       "      <th>Restaurant Name</th>\n",
       "      <th>Restaurant Price Range</th>\n",
       "      <th>Restaurant Latitude</th>\n",
       "      <th>Restaurant Longitude</th>\n",
       "    </tr>\n",
       "  </thead>\n",
       "  <tbody>\n",
       "    <tr>\n",
       "      <th>0</th>\n",
       "      <td>Afghan</td>\n",
       "      <td>The Host</td>\n",
       "      <td>$11-30</td>\n",
       "      <td>43.669935</td>\n",
       "      <td>-79.395858</td>\n",
       "    </tr>\n",
       "    <tr>\n",
       "      <th>1</th>\n",
       "      <td>Afghan</td>\n",
       "      <td>Aanch Modernist Indian Cuisine</td>\n",
       "      <td>$11-30</td>\n",
       "      <td>43.644708</td>\n",
       "      <td>-79.390670</td>\n",
       "    </tr>\n",
       "    <tr>\n",
       "      <th>2</th>\n",
       "      <td>Afghan</td>\n",
       "      <td>Silk Road Kabob House</td>\n",
       "      <td>Under $10</td>\n",
       "      <td>43.659816</td>\n",
       "      <td>-79.385591</td>\n",
       "    </tr>\n",
       "    <tr>\n",
       "      <th>3</th>\n",
       "      <td>Afghan</td>\n",
       "      <td>Naan &amp; Kabob</td>\n",
       "      <td>$11-30</td>\n",
       "      <td>43.669058</td>\n",
       "      <td>-79.386100</td>\n",
       "    </tr>\n",
       "    <tr>\n",
       "      <th>4</th>\n",
       "      <td>Afghan</td>\n",
       "      <td>Afghan Cuisine</td>\n",
       "      <td>$11-30</td>\n",
       "      <td>43.708070</td>\n",
       "      <td>-79.341508</td>\n",
       "    </tr>\n",
       "  </tbody>\n",
       "</table>\n",
       "</div>"
      ],
      "text/plain": [
       "  Category                 Restaurant Name Restaurant Price Range  \\\n",
       "0   Afghan                        The Host                 $11-30   \n",
       "1   Afghan  Aanch Modernist Indian Cuisine                 $11-30   \n",
       "2   Afghan           Silk Road Kabob House              Under $10   \n",
       "3   Afghan                    Naan & Kabob                 $11-30   \n",
       "4   Afghan                  Afghan Cuisine                 $11-30   \n",
       "\n",
       "   Restaurant Latitude  Restaurant Longitude  \n",
       "0            43.669935            -79.395858  \n",
       "1            43.644708            -79.390670  \n",
       "2            43.659816            -79.385591  \n",
       "3            43.669058            -79.386100  \n",
       "4            43.708070            -79.341508  "
      ]
     },
     "execution_count": 25,
     "metadata": {},
     "output_type": "execute_result"
    }
   ],
   "source": [
    "#transform restaurant df\n",
    "cleaned_restaurant_df = restaurant_df[[\"Category\", \"Restaurant Name\", \"Restaurant Price Range\", \"Restaurant Latitude\", \"Restaurant Longitude\"]].dropna()\n",
    "cleaned_restaurant_df.head()"
   ]
  },
  {
   "cell_type": "code",
   "execution_count": null,
   "metadata": {},
   "outputs": [],
   "source": []
  }
 ],
 "metadata": {
  "kernelspec": {
   "display_name": "Python 3",
   "language": "python",
   "name": "python3"
  },
  "language_info": {
   "codemirror_mode": {
    "name": "ipython",
    "version": 3
   },
   "file_extension": ".py",
   "mimetype": "text/x-python",
   "name": "python",
   "nbconvert_exporter": "python",
   "pygments_lexer": "ipython3",
   "version": "3.8.3"
  }
 },
 "nbformat": 4,
 "nbformat_minor": 4
}
